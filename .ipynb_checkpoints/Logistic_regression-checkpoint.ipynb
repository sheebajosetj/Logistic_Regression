{
 "cells": [
  {
   "cell_type": "markdown",
   "metadata": {
    "colab_type": "text",
    "id": "view-in-github"
   },
   "source": [
    "<a href=\"https://colab.research.google.com/github/sheebajosetj/Logistic_Regression/blob/main/Logistic_regression.ipynb\" target=\"_parent\"><img src=\"https://colab.research.google.com/assets/colab-badge.svg\" alt=\"Open In Colab\"/></a>"
   ]
  },
  {
   "cell_type": "markdown",
   "metadata": {
    "id": "Iao_ZkmGuTE2"
   },
   "source": [
    "# Logistic Regression\n",
    "\n"
   ]
  },
  {
   "cell_type": "markdown",
   "metadata": {
    "collapsed": false,
    "id": "5IfDKLtyuTE3",
    "jupyter": {
     "outputs_hidden": false
    }
   },
   "source": [
    "## Logistic Regression Algorithm\n",
    "\n",
    "Even though logistic regression has \"regression\" in its name, it is used as a classification algorithm. It calculates the probability that a sample belongs to a class. Rather than fitting a line to the data, it fits an \"S\" shaped curve called the sigmoid function.\n",
    "\n",
    "The formula for logistic regression is as follows:\n",
    "\n",
    "$$y = \\frac{1}{1 + e^{-z}}$$\n",
    "\n",
    "where $y$ is the probability that a sample belongs to a class and $z$ is the linear combination of the features.\n",
    "\n",
    "The algorithm is as follows:\n",
    "\n",
    "- Initialize the weights.\n",
    "- Calculate the predicted values.\n",
    "- Calculate the error.\n",
    "- Update the weights.\n",
    "- Repeat the steps above until convergence.\n"
   ]
  },
  {
   "cell_type": "code",
   "execution_count": null,
   "metadata": {
    "colab": {
     "base_uri": "https://localhost:8080/",
     "height": 539
    },
    "id": "d8mt_dk1uTE3",
    "outputId": "33c463d9-5978-4dc7-8402-6070b65275ad"
   },
   "outputs": [],
   "source": [
    "# plot sigmoid function\n",
    "import numpy as np\n",
    "from matplotlib import pyplot as plt\n",
    "x = np.linspace(-10, 10, 100)\n",
    "y = 1 / (1 + np.exp(-x))\n",
    "fig, ax = plt.subplots(figsize=(8, 6))\n",
    "ax.plot(x, y)"
   ]
  },
  {
   "cell_type": "code",
   "execution_count": null,
   "metadata": {
    "id": "PjipklJuuTE3"
   },
   "outputs": [],
   "source": []
  },
  {
   "cell_type": "code",
   "execution_count": null,
   "metadata": {
    "id": "kJJZKnYRuTE3"
   },
   "outputs": [],
   "source": []
  },
  {
   "cell_type": "markdown",
   "metadata": {
    "id": "NnVRI6z-uTE3"
   },
   "source": [
    "## Basic Example\n",
    "\n",
    "\n",
    "\n"
   ]
  },
  {
   "cell_type": "code",
   "execution_count": null,
   "metadata": {
    "colab": {
     "base_uri": "https://localhost:8080/",
     "height": 466
    },
    "id": "T-CesiNjuTE3",
    "outputId": "4047419c-fe89-4051-e7db-e46712aa04ad"
   },
   "outputs": [],
   "source": [
    "import pandas as pd\n",
    "log_data = pd.DataFrame({'x': [-2, -2.3, -2.1, -1, -.5,  0, .5, .7, 1, 2, 3],\n",
    "                    'y': [0, 0, 0, 0, 1, 0, 1,1, 1, 1, 1]})\n",
    "\n",
    "log_data.plot.scatter(x='x', y='y')"
   ]
  },
  {
   "cell_type": "code",
   "execution_count": null,
   "metadata": {
    "colab": {
     "base_uri": "https://localhost:8080/",
     "height": 80
    },
    "id": "dPyjhctquTE4",
    "outputId": "71a6d72f-93f1-417c-d2cd-cf2583fb0269"
   },
   "outputs": [],
   "source": [
    "from sklearn.linear_model import LogisticRegression\n",
    "log_r = LogisticRegression()\n",
    "log_r.fit(log_data[['x']], log_data['y'])\n"
   ]
  },
  {
   "cell_type": "code",
   "execution_count": null,
   "metadata": {
    "colab": {
     "base_uri": "https://localhost:8080/"
    },
    "id": "N-mPR5NxuTE4",
    "outputId": "92afe000-3ceb-4f97-9c63-f51688fa51ae"
   },
   "outputs": [],
   "source": [
    "log_r.coef_"
   ]
  },
  {
   "cell_type": "code",
   "execution_count": null,
   "metadata": {
    "colab": {
     "base_uri": "https://localhost:8080/"
    },
    "id": "6Tp19-bLuTE4",
    "outputId": "126374ee-815c-436f-875d-9d6c2ee3e8d2"
   },
   "outputs": [],
   "source": [
    "log_r.intercept_"
   ]
  },
  {
   "cell_type": "code",
   "execution_count": null,
   "metadata": {
    "colab": {
     "base_uri": "https://localhost:8080/",
     "height": 559
    },
    "id": "h5_OBs0JuTE4",
    "outputId": "e30f3d0e-b6fb-44c2-8092-d7dd5f68b152"
   },
   "outputs": [],
   "source": [
    "# plot fitted sigmoid function on top of data\n",
    "x = np.linspace(-3, 4, 100)\n",
    "y = 1 / (1 + np.exp(-(log_r.coef_[0][0] * x + log_r.intercept_[0])))\n",
    "fig, ax = plt.subplots(figsize=(8, 6))\n",
    "ax.plot(x, y)\n",
    "log_data.plot.scatter(x='x', y='y', ax=ax)\n",
    "# annotate above .5\n",
    "ax.annotate('Predict 1\\nright of this', xy=(-.31, .5), xytext=(2, .4), arrowprops={'arrowstyle': '->'})"
   ]
  },
  {
   "cell_type": "code",
   "execution_count": null,
   "metadata": {
    "colab": {
     "base_uri": "https://localhost:8080/"
    },
    "id": "1jbtXVcCuTE4",
    "outputId": "526f9891-8394-464d-c170-c8372cbf0ee5"
   },
   "outputs": [],
   "source": [
    "log_r.predict([[-.3]])"
   ]
  },
  {
   "cell_type": "markdown",
   "metadata": {
    "id": "Mphpz5w9uTE5"
   },
   "source": [
    "## Real World Example with Eye movements\n",
    "\n",
    "From the website:\n",
    "\n",
    "The dataset consist of several assignments. Each assignment consists of a question followed by ten sentences (titles of news articles). One of the sentences is the correct answer to the question (C) and five of the sentences are irrelevant to the question (I). Four of the sentences are relevant to the question (R), but they do not answer it.\n",
    "\n",
    "- Features are in columns, feature vectors in rows.\n",
    "- Each assignment is a time sequence of 22-dimensional feature vectors.\n",
    "- The first column is the line number, second the assignment number and the next 22 columns (3 to 24) are the different features. Columns 25 to 27 contain extra information about the example. The training data set contains the classification label in the 28th column: \"0\" for irrelevant, \"1\" for relevant and \"2\" for the correct answer.\n",
    "- Each example (row) represents a single word. You are asked to return the classification of each read sentence.\n",
    "- The 22 features provided are commonly used in psychological studies on eye movement. All of them are not necessarily relevant in this context.\n",
    "\n",
    "The objective of the Challenge is to predict the classification labels (I, R, C).\n"
   ]
  },
  {
   "cell_type": "code",
   "execution_count": null,
   "metadata": {
    "colab": {
     "base_uri": "https://localhost:8080/",
     "height": 217,
     "referenced_widgets": [
      "998baeb902044740baa8c970bf048f69",
      "6eec16c669d74b23b768dce5c04dcd0e",
      "58d6895caea14747998fc57384a229cc",
      "344f691d442c4f138482c5cdd10ed377",
      "9bc9b6deaa3748e597abf4515ddbecbe",
      "cd43f3c3a95f4011a5a3a6252379a66d",
      "65e8271ee9a449f889653656f00fc55d",
      "8575391f3f9d4c0da3368b07dd606a60",
      "745de2249f614fd2a9cf897276503558",
      "d74dfc4382a84d5393993cce51b8aade",
      "cfbf0f50dace436f8bf938f42ca2e6a6",
      "a20621e621d4485f845bb304177f765d",
      "bf396c9621db400e844ef87ecf7c7506",
      "dc3c3596e2a84402a8f26dbb13da38b2",
      "3fb775fc90a5480eba2501bba2a10ff4",
      "25ffd34b6cf14cce85d32c86dd90fb07",
      "ae4d07e1ccd44415a0b435ee84526222",
      "ce2d0b5096044d3887e30b56df30dbf3",
      "548fe2ce4a7b435b98dea2b7d66836c2",
      "01f66997ab4946d696de9cecf965fa25",
      "be062c5b03804239a2d760d8bec91f2b",
      "a06d1306c5e54ed2ba7a5a024814396a",
      "ebf950befe674ba884c42ad3e14133ff",
      "8a058e47d5e0439c87455aac3ac88065",
      "55f2b956172b440981b88e1db36f1457",
      "1ffe31f3503c4daa97cd4b6bc30f00ab",
      "3f356cb3323b490085f2488157a36cfb",
      "d5e2b4c5d72c491aa7a5528a94608eb9",
      "75045fcf8b394158a92a8d3c3b0d9acf",
      "cf56a26e219e45ba8e100e170cb72310",
      "8a85d916ba4c458f8a33ace47692570e",
      "9c93af8b2a8240b299fa037af5fd4b9e",
      "17e0d705295d4486a305c2cf45d3785c"
     ]
    },
    "id": "Qg7T5AURuTE5",
    "outputId": "48b5beed-308b-48ec-f6f6-7eea56eb1788"
   },
   "outputs": [],
   "source": [
    "# https://www.openml.org/da/1044\n",
    "from datasets import load_dataset\n",
    "eye = load_dataset('inria-soda/tabular-benchmark', data_files='clf_num/eye_movements.csv')"
   ]
  },
  {
   "cell_type": "code",
   "execution_count": null,
   "metadata": {
    "colab": {
     "base_uri": "https://localhost:8080/",
     "height": 444
    },
    "id": "0pyNzQr5uTE6",
    "outputId": "3eda9c9b-59cf-4eba-9348-fcfbe84bed7b"
   },
   "outputs": [],
   "source": [
    "eye_df = eye['train'].to_pandas()\n",
    "eye_df\n"
   ]
  },
  {
   "cell_type": "code",
   "execution_count": null,
   "metadata": {
    "colab": {
     "base_uri": "https://localhost:8080/"
    },
    "id": "6qNPZJsiuTE6",
    "outputId": "aa90b811-94b9-4aa5-d482-fa407c3fb451"
   },
   "outputs": [],
   "source": [
    "from sklearn.preprocessing import StandardScaler\n",
    "\n",
    "X = eye_df.drop(columns=['label'])\n",
    "y = eye_df['label']\n",
    "std = StandardScaler()\n",
    "X_scaled = std.fit_transform(X)\n",
    "eye_log = LogisticRegression()\n",
    "eye_log.fit(X_scaled, y)\n",
    "eye_log.score(X_scaled, y)"
   ]
  },
  {
   "cell_type": "code",
   "execution_count": null,
   "metadata": {
    "colab": {
     "base_uri": "https://localhost:8080/",
     "height": 539
    },
    "id": "oJpqFMbtuTE6",
    "outputId": "d8a4d718-1fec-4ada-8e63-e138e28c0344"
   },
   "outputs": [],
   "source": [
    "pd.Series(eye_log.coef_[0], index=X.columns).sort_values().plot.barh(figsize=(8, 6))"
   ]
  },
  {
   "cell_type": "code",
   "execution_count": null,
   "metadata": {
    "id": "5RqKH_FouTE6"
   },
   "outputs": [],
   "source": []
  },
  {
   "cell_type": "code",
   "execution_count": null,
   "metadata": {
    "id": "7RySqSVbuTE6"
   },
   "outputs": [],
   "source": []
  },
  {
   "cell_type": "code",
   "execution_count": null,
   "metadata": {
    "id": "wS0OKFCBuTE6"
   },
   "outputs": [],
   "source": []
  },
  {
   "cell_type": "markdown",
   "metadata": {
    "id": "o-JooQ-MuTE7"
   },
   "source": [
    "## Challenge: Logistic Regression\n",
    "\n",
    "Create a logistic regression model to predict whether a Titanic passenger survives based on the numeric columns.\n"
   ]
  },
  {
   "cell_type": "code",
   "execution_count": null,
   "metadata": {
    "colab": {
     "base_uri": "https://localhost:8080/",
     "height": 424
    },
    "id": "grIEpjrruTE7",
    "outputId": "1986c5e2-4bdf-4458-cba8-192891757c8e"
   },
   "outputs": [],
   "source": [
    "import pandas as pd\n",
    "url = 'https://github.com/mattharrison/datasets/raw/master/data/titanic3.xls'\n",
    "raw = pd.read_excel(url)\n",
    "raw"
   ]
  },
  {
   "cell_type": "code",
   "execution_count": null,
   "metadata": {
    "colab": {
     "base_uri": "https://localhost:8080/",
     "height": 424
    },
    "id": "riqInZCpuTE7",
    "outputId": "860edabe-836a-4cdb-8fb9-e6f41a71e935"
   },
   "outputs": [],
   "source": [
    "def tweak_titanic(df):\n",
    "  return (df\n",
    "          .loc[:, ['pclass', 'survived',  'age', 'sibsp', 'parch',\n",
    "       'fare']]\n",
    "        .dropna()\n",
    "  )\n",
    "\n",
    "tweak_titanic(raw)"
   ]
  },
  {
   "cell_type": "markdown",
   "metadata": {
    "id": "Lhbvb8yluTE7"
   },
   "source": [
    "## Solution: Logistic Regression"
   ]
  },
  {
   "cell_type": "code",
   "execution_count": null,
   "metadata": {
    "id": "d2lOVrv9uTE7"
   },
   "outputs": [],
   "source": []
  },
  {
   "cell_type": "code",
   "execution_count": null,
   "metadata": {
    "id": "pUJ8ffmcuTE7"
   },
   "outputs": [],
   "source": []
  },
  {
   "cell_type": "code",
   "execution_count": null,
   "metadata": {
    "id": "w-O7LugXuTE7"
   },
   "outputs": [],
   "source": []
  },
  {
   "cell_type": "markdown",
   "metadata": {
    "id": "aAnZ3wnKuTE8"
   },
   "source": [
    "# Decision Trees\n"
   ]
  },
  {
   "cell_type": "markdown",
   "metadata": {
    "id": "GFqSeurOuTE8"
   },
   "source": [
    "## Decision Tree Algorithm\n",
    "\n",
    "Decision trees are a type of supervised learning algorithm that can be used for both classification and regression. They work by splitting the data into subsets based on the features. The goal is to split the data in a way that minimizes the entropy of the subsets."
   ]
  },
  {
   "cell_type": "code",
   "execution_count": null,
   "metadata": {
    "id": "hBvZWhH1uTE8"
   },
   "outputs": [],
   "source": [
    "## Create \"decision stump\"\n",
    "## fit tree regressor to anscombe's quartet limit to 1 level\n",
    "\n",
    "from sklearn.tree import DecisionTreeRegressor\n",
    "dt = DecisionTreeRegressor(max_depth=1)\n",
    "X = anscombe[['x']]\n",
    "y = anscombe['y1']\n",
    "dt.fit(X, y)\n"
   ]
  },
  {
   "cell_type": "code",
   "execution_count": null,
   "metadata": {
    "id": "chDIezpTuTE8"
   },
   "outputs": [],
   "source": [
    "## Plot the tree\n",
    "from sklearn.tree import plot_tree\n",
    "fig, ax = plt.subplots(figsize=(8, 6))\n",
    "_ = plot_tree(dt, ax=ax, feature_names=['x'], filled=True, fontsize=10)"
   ]
  },
  {
   "cell_type": "code",
   "execution_count": null,
   "metadata": {
    "id": "Ql3o1FziuTE8"
   },
   "outputs": [],
   "source": [
    "## Plot the data and predictions on the same plot\n",
    "import numpy as np\n",
    "fig, ax = plt.subplots(figsize=(8, 6))\n",
    "anscombe.plot.scatter(x='x', y='y1', ax=ax, color='k')\n",
    "# plot the line\n",
    "x1 = np.linspace(4, 14, 100)\n",
    "y1 = dt.predict(x1.reshape(-1, 1))\n",
    "ax.plot(x1, y1, color='r')\n"
   ]
  },
  {
   "cell_type": "code",
   "execution_count": null,
   "metadata": {
    "id": "kLJh6S7iuTE8"
   },
   "outputs": [],
   "source": [
    "## Now plot to two levels\n",
    "fig, ax = plt.subplots(figsize=(8, 6))\n",
    "anscombe.plot.scatter(x='x', y='y1', ax=ax, color='k')\n",
    "# plot the line\n",
    "dt2 = DecisionTreeRegressor(max_depth=2)\n",
    "dt2.fit(X, y)\n",
    "\n",
    "x1 = np.linspace(4, 14, 100)\n",
    "y1 = dt2.predict(x1.reshape(-1, 1))\n",
    "ax.plot(x1, y1, color='r')\n"
   ]
  },
  {
   "cell_type": "code",
   "execution_count": null,
   "metadata": {
    "id": "dn-swQATuTE8"
   },
   "outputs": [],
   "source": [
    "## Now plot unlimited levels\n",
    "fig, ax = plt.subplots(figsize=(8, 6))\n",
    "anscombe.plot.scatter(x='x', y='y1', ax=ax, color='k')\n",
    "# plot the line\n",
    "dt3 = DecisionTreeRegressor(max_depth=None)\n",
    "dt3.fit(X, y)\n",
    "\n",
    "x1 = np.linspace(4, 14, 100)\n",
    "y1 = dt3.predict(x1.reshape(-1, 1))\n",
    "ax.plot(x1, y1, color='r')\n"
   ]
  },
  {
   "cell_type": "code",
   "execution_count": null,
   "metadata": {
    "id": "-6mNCwo5uTE9"
   },
   "outputs": [],
   "source": []
  },
  {
   "cell_type": "code",
   "execution_count": null,
   "metadata": {
    "id": "_6ZjzKJZuTE9"
   },
   "outputs": [],
   "source": []
  },
  {
   "cell_type": "code",
   "execution_count": null,
   "metadata": {
    "id": "9rutNuPFuTE9"
   },
   "outputs": [],
   "source": []
  },
  {
   "cell_type": "markdown",
   "metadata": {
    "id": "UGyAbvi-uTE9"
   },
   "source": [
    "## Real World with Aircraft Elevators"
   ]
  },
  {
   "cell_type": "code",
   "execution_count": null,
   "metadata": {
    "id": "o_aSOqh-uTE9"
   },
   "outputs": [],
   "source": [
    "X_elev = elev.drop(columns=['Goal'])\n",
    "y_elev = elev['Goal']\n",
    "dt_elev = DecisionTreeRegressor(max_depth=3)\n",
    "dt_elev.fit(X_elev, y_elev)\n"
   ]
  },
  {
   "cell_type": "code",
   "execution_count": null,
   "metadata": {
    "id": "YwxXS9aVuTE9"
   },
   "outputs": [],
   "source": [
    "# plot the tree\n",
    "from sklearn.tree import plot_tree\n",
    "fig, ax = plt.subplots(figsize=(12, 8))\n",
    "_ = plot_tree(dt_elev, ax=ax, feature_names=X_elev.columns, filled=True, fontsize=10, precision=4)\n"
   ]
  },
  {
   "cell_type": "code",
   "execution_count": null,
   "metadata": {
    "id": "n6LZ5e37uTE9"
   },
   "outputs": [],
   "source": [
    "dt_elev.score(X_elev, y_elev)"
   ]
  },
  {
   "cell_type": "code",
   "execution_count": null,
   "metadata": {
    "id": "go4mmlEruTE9"
   },
   "outputs": [],
   "source": [
    "from sklearn.linear_model import LinearRegression\n",
    "lr_elev = LinearRegression()\n",
    "lr_elev.fit(X_elev, y_elev)\n",
    "lr_elev.score(X_elev, y_elev)"
   ]
  },
  {
   "cell_type": "code",
   "execution_count": null,
   "metadata": {
    "id": "HcdCICbDuTE-"
   },
   "outputs": [],
   "source": [
    "# loop over depths and plot the results\n",
    "scores = []\n",
    "for i in range(1, 20):\n",
    "    dt = DecisionTreeRegressor(max_depth=i)\n",
    "    dt.fit(X_elev, y_elev)\n",
    "    scores.append(dt.score(X_elev, y_elev))\n",
    "\n",
    "pd.Series(scores).plot.line(figsize=(8, 6))"
   ]
  },
  {
   "cell_type": "code",
   "execution_count": null,
   "metadata": {
    "id": "tzWVUJAnuTE-"
   },
   "outputs": [],
   "source": [
    "# split the data and plot results of train and test\n",
    "from sklearn.model_selection import train_test_split\n",
    "X_train, X_test, y_train, y_test = train_test_split(X_elev, y_elev, random_state=42)\n",
    "test_scores = []\n",
    "train_scores = []\n",
    "for i in range(1, 20):\n",
    "    dt = DecisionTreeRegressor(max_depth=i)\n",
    "    dt.fit(X_train, y_train)\n",
    "    test_scores.append(dt.score(X_test, y_test))\n",
    "    train_scores.append(dt.score(X_train, y_train))\n",
    "\n",
    "ax = pd.DataFrame({'train': train_scores, 'test': test_scores}).plot.line(figsize=(8, 6))\n",
    "\n",
    "# annotate overfitting at 10, .7\n",
    "ax.annotate('Overfitting after here', xy=(10, .7), xytext=(12, .5), arrowprops={'arrowstyle': '->'})\n",
    "\n",
    "# set title\n",
    "ax.set_title('Validation Curve for Decision Tree')\n"
   ]
  },
  {
   "cell_type": "code",
   "execution_count": null,
   "metadata": {
    "id": "OnszKU-ZuTE-"
   },
   "outputs": [],
   "source": [
    "# Let's see if our model improves with a deeper tree\n",
    "dt_elev = DecisionTreeRegressor(max_depth=11)\n",
    "dt_elev.fit(X_train, y_train)\n",
    "dt_elev.score(X_test, y_test)"
   ]
  },
  {
   "cell_type": "code",
   "execution_count": null,
   "metadata": {
    "id": "w_G1DFMOuTE-"
   },
   "outputs": [],
   "source": [
    "lr_elev = LinearRegression()\n",
    "lr_elev.fit(X_train, y_train)\n",
    "lr_elev.score(X_test, y_test)"
   ]
  },
  {
   "cell_type": "code",
   "execution_count": null,
   "metadata": {
    "id": "tN3Jr5P5uTE-"
   },
   "outputs": [],
   "source": []
  },
  {
   "cell_type": "markdown",
   "metadata": {
    "id": "kD6pWCcYuTE_"
   },
   "source": [
    "## Random Forests and XGBoost"
   ]
  },
  {
   "cell_type": "code",
   "execution_count": null,
   "metadata": {
    "id": "7JzFM5d-uTE_"
   },
   "outputs": [],
   "source": [
    "# create a random forest regressor\n",
    "from sklearn.ensemble import RandomForestRegressor\n",
    "rf = RandomForestRegressor(n_estimators=100, max_depth=3)\n",
    "rf.fit(X_train, y_train)\n",
    "rf.score(X_test, y_test)\n"
   ]
  },
  {
   "cell_type": "code",
   "execution_count": null,
   "metadata": {
    "id": "bo_3Ta-SuTE_"
   },
   "outputs": [],
   "source": [
    "# sweep over depths and plot results\n",
    "test_scores = []\n",
    "train_scores = []\n",
    "for i in range(1, 20):\n",
    "    rf = RandomForestRegressor(n_estimators=100, max_depth=i)\n",
    "    rf.fit(X_train, y_train)\n",
    "    test_scores.append(rf.score(X_test, y_test))\n",
    "    train_scores.append(rf.score(X_train, y_train))\n",
    "\n",
    "ax = pd.DataFrame({'train': train_scores, 'test': test_scores}).plot.line(figsize=(8, 6))"
   ]
  },
  {
   "cell_type": "code",
   "execution_count": null,
   "metadata": {
    "id": "zukOnB2RuTE_"
   },
   "outputs": [],
   "source": [
    "# create a random forest regressor\n",
    "from sklearn.ensemble import RandomForestRegressor\n",
    "rf = RandomForestRegressor(n_estimators=100, max_depth=13, random_state=42)\n",
    "rf.fit(X_train, y_train)\n",
    "rf.score(X_test, y_test)\n"
   ]
  },
  {
   "cell_type": "code",
   "execution_count": null,
   "metadata": {
    "id": "EWDnQxeGuTE_"
   },
   "outputs": [],
   "source": [
    "# create an xgb regressor\n",
    "from xgboost import XGBRegressor\n",
    "xgb = XGBRegressor()\n",
    "xgb.fit(X_train, y_train)\n",
    "xgb.score(X_test, y_test)"
   ]
  },
  {
   "cell_type": "code",
   "execution_count": null,
   "metadata": {
    "id": "Z1hI8iUvuTFA"
   },
   "outputs": [],
   "source": []
  },
  {
   "cell_type": "code",
   "execution_count": null,
   "metadata": {
    "id": "kaCEvO3cuTFA"
   },
   "outputs": [],
   "source": []
  },
  {
   "cell_type": "code",
   "execution_count": null,
   "metadata": {
    "id": "w0bujfg1uTFA"
   },
   "outputs": [],
   "source": []
  },
  {
   "cell_type": "markdown",
   "metadata": {
    "id": "cUSs1k8QuTFA"
   },
   "source": [
    "## Challenge: Decision Trees\n",
    "\n",
    "Create a decision tree to predict survival on the titanic. See if you can determine the optimal depth of the tree."
   ]
  },
  {
   "cell_type": "markdown",
   "metadata": {
    "id": "lJaS27zFuTFA"
   },
   "source": [
    "## Solution: Decision Trees"
   ]
  },
  {
   "cell_type": "code",
   "execution_count": null,
   "metadata": {
    "id": "LkuUBXXBuTFA"
   },
   "outputs": [],
   "source": []
  },
  {
   "cell_type": "code",
   "execution_count": null,
   "metadata": {
    "id": "ldoxfW5PuTFA"
   },
   "outputs": [],
   "source": []
  },
  {
   "cell_type": "code",
   "execution_count": null,
   "metadata": {
    "id": "LBCqPBlAuTFB"
   },
   "outputs": [],
   "source": []
  },
  {
   "cell_type": "code",
   "execution_count": null,
   "metadata": {
    "id": "12fG9FFHuTFB"
   },
   "outputs": [],
   "source": []
  },
  {
   "cell_type": "code",
   "execution_count": null,
   "metadata": {
    "id": "mp3YjPIiuTFB"
   },
   "outputs": [],
   "source": []
  },
  {
   "cell_type": "markdown",
   "metadata": {
    "id": "YIRLeprRuTFB"
   },
   "source": [
    "# Conclusion - Next Steps\n",
    "\n",
    "- Practice, practice, practice! - I recommend using your own data to practice.\n",
    "- Check out my Feature Engineering course.\n",
    "- Check out my XGBoost course."
   ]
  },
  {
   "cell_type": "markdown",
   "metadata": {
    "id": "LyoOJWPRuTFB"
   },
   "source": []
  }
 ],
 "metadata": {
  "colab": {
   "include_colab_link": true,
   "provenance": []
  },
  "kernelspec": {
   "display_name": "Python 3 (ipykernel)",
   "language": "python",
   "name": "python3"
  },
  "language_info": {
   "codemirror_mode": {
    "name": "ipython",
    "version": 3
   },
   "file_extension": ".py",
   "mimetype": "text/x-python",
   "name": "python",
   "nbconvert_exporter": "python",
   "pygments_lexer": "ipython3",
   "version": "3.13.7"
  },
  "widgets": {
   "application/vnd.jupyter.widget-state+json": {
    "01f66997ab4946d696de9cecf965fa25": {
     "model_module": "@jupyter-widgets/controls",
     "model_module_version": "1.5.0",
     "model_name": "ProgressStyleModel",
     "state": {
      "_model_module": "@jupyter-widgets/controls",
      "_model_module_version": "1.5.0",
      "_model_name": "ProgressStyleModel",
      "_view_count": null,
      "_view_module": "@jupyter-widgets/base",
      "_view_module_version": "1.2.0",
      "_view_name": "StyleView",
      "bar_color": null,
      "description_width": ""
     }
    },
    "17e0d705295d4486a305c2cf45d3785c": {
     "model_module": "@jupyter-widgets/controls",
     "model_module_version": "1.5.0",
     "model_name": "DescriptionStyleModel",
     "state": {
      "_model_module": "@jupyter-widgets/controls",
      "_model_module_version": "1.5.0",
      "_model_name": "DescriptionStyleModel",
      "_view_count": null,
      "_view_module": "@jupyter-widgets/base",
      "_view_module_version": "1.2.0",
      "_view_name": "StyleView",
      "description_width": ""
     }
    },
    "1ffe31f3503c4daa97cd4b6bc30f00ab": {
     "model_module": "@jupyter-widgets/controls",
     "model_module_version": "1.5.0",
     "model_name": "HTMLModel",
     "state": {
      "_dom_classes": [],
      "_model_module": "@jupyter-widgets/controls",
      "_model_module_version": "1.5.0",
      "_model_name": "HTMLModel",
      "_view_count": null,
      "_view_module": "@jupyter-widgets/controls",
      "_view_module_version": "1.5.0",
      "_view_name": "HTMLView",
      "description": "",
      "description_tooltip": null,
      "layout": "IPY_MODEL_9c93af8b2a8240b299fa037af5fd4b9e",
      "placeholder": "​",
      "style": "IPY_MODEL_17e0d705295d4486a305c2cf45d3785c",
      "value": " 7608/0 [00:00&lt;00:00, 89482.00 examples/s]"
     }
    },
    "25ffd34b6cf14cce85d32c86dd90fb07": {
     "model_module": "@jupyter-widgets/base",
     "model_module_version": "1.2.0",
     "model_name": "LayoutModel",
     "state": {
      "_model_module": "@jupyter-widgets/base",
      "_model_module_version": "1.2.0",
      "_model_name": "LayoutModel",
      "_view_count": null,
      "_view_module": "@jupyter-widgets/base",
      "_view_module_version": "1.2.0",
      "_view_name": "LayoutView",
      "align_content": null,
      "align_items": null,
      "align_self": null,
      "border": null,
      "bottom": null,
      "display": null,
      "flex": null,
      "flex_flow": null,
      "grid_area": null,
      "grid_auto_columns": null,
      "grid_auto_flow": null,
      "grid_auto_rows": null,
      "grid_column": null,
      "grid_gap": null,
      "grid_row": null,
      "grid_template_areas": null,
      "grid_template_columns": null,
      "grid_template_rows": null,
      "height": null,
      "justify_content": null,
      "justify_items": null,
      "left": null,
      "margin": null,
      "max_height": null,
      "max_width": null,
      "min_height": null,
      "min_width": null,
      "object_fit": null,
      "object_position": null,
      "order": null,
      "overflow": null,
      "overflow_x": null,
      "overflow_y": null,
      "padding": null,
      "right": null,
      "top": null,
      "visibility": null,
      "width": null
     }
    },
    "344f691d442c4f138482c5cdd10ed377": {
     "model_module": "@jupyter-widgets/controls",
     "model_module_version": "1.5.0",
     "model_name": "HTMLModel",
     "state": {
      "_dom_classes": [],
      "_model_module": "@jupyter-widgets/controls",
      "_model_module_version": "1.5.0",
      "_model_name": "HTMLModel",
      "_view_count": null,
      "_view_module": "@jupyter-widgets/controls",
      "_view_module_version": "1.5.0",
      "_view_name": "HTMLView",
      "description": "",
      "description_tooltip": null,
      "layout": "IPY_MODEL_d74dfc4382a84d5393993cce51b8aade",
      "placeholder": "​",
      "style": "IPY_MODEL_cfbf0f50dace436f8bf938f42ca2e6a6",
      "value": " 15.0k/? [00:00&lt;00:00, 222kB/s]"
     }
    },
    "3f356cb3323b490085f2488157a36cfb": {
     "model_module": "@jupyter-widgets/base",
     "model_module_version": "1.2.0",
     "model_name": "LayoutModel",
     "state": {
      "_model_module": "@jupyter-widgets/base",
      "_model_module_version": "1.2.0",
      "_model_name": "LayoutModel",
      "_view_count": null,
      "_view_module": "@jupyter-widgets/base",
      "_view_module_version": "1.2.0",
      "_view_name": "LayoutView",
      "align_content": null,
      "align_items": null,
      "align_self": null,
      "border": null,
      "bottom": null,
      "display": null,
      "flex": null,
      "flex_flow": null,
      "grid_area": null,
      "grid_auto_columns": null,
      "grid_auto_flow": null,
      "grid_auto_rows": null,
      "grid_column": null,
      "grid_gap": null,
      "grid_row": null,
      "grid_template_areas": null,
      "grid_template_columns": null,
      "grid_template_rows": null,
      "height": null,
      "justify_content": null,
      "justify_items": null,
      "left": null,
      "margin": null,
      "max_height": null,
      "max_width": null,
      "min_height": null,
      "min_width": null,
      "object_fit": null,
      "object_position": null,
      "order": null,
      "overflow": null,
      "overflow_x": null,
      "overflow_y": null,
      "padding": null,
      "right": null,
      "top": null,
      "visibility": null,
      "width": null
     }
    },
    "3fb775fc90a5480eba2501bba2a10ff4": {
     "model_module": "@jupyter-widgets/controls",
     "model_module_version": "1.5.0",
     "model_name": "HTMLModel",
     "state": {
      "_dom_classes": [],
      "_model_module": "@jupyter-widgets/controls",
      "_model_module_version": "1.5.0",
      "_model_name": "HTMLModel",
      "_view_count": null,
      "_view_module": "@jupyter-widgets/controls",
      "_view_module_version": "1.5.0",
      "_view_name": "HTMLView",
      "description": "",
      "description_tooltip": null,
      "layout": "IPY_MODEL_be062c5b03804239a2d760d8bec91f2b",
      "placeholder": "​",
      "style": "IPY_MODEL_a06d1306c5e54ed2ba7a5a024814396a",
      "value": " 951k/? [00:00&lt;00:00, 9.67MB/s]"
     }
    },
    "548fe2ce4a7b435b98dea2b7d66836c2": {
     "model_module": "@jupyter-widgets/base",
     "model_module_version": "1.2.0",
     "model_name": "LayoutModel",
     "state": {
      "_model_module": "@jupyter-widgets/base",
      "_model_module_version": "1.2.0",
      "_model_name": "LayoutModel",
      "_view_count": null,
      "_view_module": "@jupyter-widgets/base",
      "_view_module_version": "1.2.0",
      "_view_name": "LayoutView",
      "align_content": null,
      "align_items": null,
      "align_self": null,
      "border": null,
      "bottom": null,
      "display": null,
      "flex": null,
      "flex_flow": null,
      "grid_area": null,
      "grid_auto_columns": null,
      "grid_auto_flow": null,
      "grid_auto_rows": null,
      "grid_column": null,
      "grid_gap": null,
      "grid_row": null,
      "grid_template_areas": null,
      "grid_template_columns": null,
      "grid_template_rows": null,
      "height": null,
      "justify_content": null,
      "justify_items": null,
      "left": null,
      "margin": null,
      "max_height": null,
      "max_width": null,
      "min_height": null,
      "min_width": null,
      "object_fit": null,
      "object_position": null,
      "order": null,
      "overflow": null,
      "overflow_x": null,
      "overflow_y": null,
      "padding": null,
      "right": null,
      "top": null,
      "visibility": null,
      "width": "20px"
     }
    },
    "55f2b956172b440981b88e1db36f1457": {
     "model_module": "@jupyter-widgets/controls",
     "model_module_version": "1.5.0",
     "model_name": "FloatProgressModel",
     "state": {
      "_dom_classes": [],
      "_model_module": "@jupyter-widgets/controls",
      "_model_module_version": "1.5.0",
      "_model_name": "FloatProgressModel",
      "_view_count": null,
      "_view_module": "@jupyter-widgets/controls",
      "_view_module_version": "1.5.0",
      "_view_name": "ProgressView",
      "bar_style": "success",
      "description": "",
      "description_tooltip": null,
      "layout": "IPY_MODEL_cf56a26e219e45ba8e100e170cb72310",
      "max": 1,
      "min": 0,
      "orientation": "horizontal",
      "style": "IPY_MODEL_8a85d916ba4c458f8a33ace47692570e",
      "value": 1
     }
    },
    "58d6895caea14747998fc57384a229cc": {
     "model_module": "@jupyter-widgets/controls",
     "model_module_version": "1.5.0",
     "model_name": "FloatProgressModel",
     "state": {
      "_dom_classes": [],
      "_model_module": "@jupyter-widgets/controls",
      "_model_module_version": "1.5.0",
      "_model_name": "FloatProgressModel",
      "_view_count": null,
      "_view_module": "@jupyter-widgets/controls",
      "_view_module_version": "1.5.0",
      "_view_name": "ProgressView",
      "bar_style": "success",
      "description": "",
      "description_tooltip": null,
      "layout": "IPY_MODEL_8575391f3f9d4c0da3368b07dd606a60",
      "max": 1,
      "min": 0,
      "orientation": "horizontal",
      "style": "IPY_MODEL_745de2249f614fd2a9cf897276503558",
      "value": 1
     }
    },
    "65e8271ee9a449f889653656f00fc55d": {
     "model_module": "@jupyter-widgets/controls",
     "model_module_version": "1.5.0",
     "model_name": "DescriptionStyleModel",
     "state": {
      "_model_module": "@jupyter-widgets/controls",
      "_model_module_version": "1.5.0",
      "_model_name": "DescriptionStyleModel",
      "_view_count": null,
      "_view_module": "@jupyter-widgets/base",
      "_view_module_version": "1.2.0",
      "_view_name": "StyleView",
      "description_width": ""
     }
    },
    "6eec16c669d74b23b768dce5c04dcd0e": {
     "model_module": "@jupyter-widgets/controls",
     "model_module_version": "1.5.0",
     "model_name": "HTMLModel",
     "state": {
      "_dom_classes": [],
      "_model_module": "@jupyter-widgets/controls",
      "_model_module_version": "1.5.0",
      "_model_name": "HTMLModel",
      "_view_count": null,
      "_view_module": "@jupyter-widgets/controls",
      "_view_module_version": "1.5.0",
      "_view_name": "HTMLView",
      "description": "",
      "description_tooltip": null,
      "layout": "IPY_MODEL_cd43f3c3a95f4011a5a3a6252379a66d",
      "placeholder": "​",
      "style": "IPY_MODEL_65e8271ee9a449f889653656f00fc55d",
      "value": "README.md: "
     }
    },
    "745de2249f614fd2a9cf897276503558": {
     "model_module": "@jupyter-widgets/controls",
     "model_module_version": "1.5.0",
     "model_name": "ProgressStyleModel",
     "state": {
      "_model_module": "@jupyter-widgets/controls",
      "_model_module_version": "1.5.0",
      "_model_name": "ProgressStyleModel",
      "_view_count": null,
      "_view_module": "@jupyter-widgets/base",
      "_view_module_version": "1.2.0",
      "_view_name": "StyleView",
      "bar_color": null,
      "description_width": ""
     }
    },
    "75045fcf8b394158a92a8d3c3b0d9acf": {
     "model_module": "@jupyter-widgets/controls",
     "model_module_version": "1.5.0",
     "model_name": "DescriptionStyleModel",
     "state": {
      "_model_module": "@jupyter-widgets/controls",
      "_model_module_version": "1.5.0",
      "_model_name": "DescriptionStyleModel",
      "_view_count": null,
      "_view_module": "@jupyter-widgets/base",
      "_view_module_version": "1.2.0",
      "_view_name": "StyleView",
      "description_width": ""
     }
    },
    "8575391f3f9d4c0da3368b07dd606a60": {
     "model_module": "@jupyter-widgets/base",
     "model_module_version": "1.2.0",
     "model_name": "LayoutModel",
     "state": {
      "_model_module": "@jupyter-widgets/base",
      "_model_module_version": "1.2.0",
      "_model_name": "LayoutModel",
      "_view_count": null,
      "_view_module": "@jupyter-widgets/base",
      "_view_module_version": "1.2.0",
      "_view_name": "LayoutView",
      "align_content": null,
      "align_items": null,
      "align_self": null,
      "border": null,
      "bottom": null,
      "display": null,
      "flex": null,
      "flex_flow": null,
      "grid_area": null,
      "grid_auto_columns": null,
      "grid_auto_flow": null,
      "grid_auto_rows": null,
      "grid_column": null,
      "grid_gap": null,
      "grid_row": null,
      "grid_template_areas": null,
      "grid_template_columns": null,
      "grid_template_rows": null,
      "height": null,
      "justify_content": null,
      "justify_items": null,
      "left": null,
      "margin": null,
      "max_height": null,
      "max_width": null,
      "min_height": null,
      "min_width": null,
      "object_fit": null,
      "object_position": null,
      "order": null,
      "overflow": null,
      "overflow_x": null,
      "overflow_y": null,
      "padding": null,
      "right": null,
      "top": null,
      "visibility": null,
      "width": "20px"
     }
    },
    "8a058e47d5e0439c87455aac3ac88065": {
     "model_module": "@jupyter-widgets/controls",
     "model_module_version": "1.5.0",
     "model_name": "HTMLModel",
     "state": {
      "_dom_classes": [],
      "_model_module": "@jupyter-widgets/controls",
      "_model_module_version": "1.5.0",
      "_model_name": "HTMLModel",
      "_view_count": null,
      "_view_module": "@jupyter-widgets/controls",
      "_view_module_version": "1.5.0",
      "_view_name": "HTMLView",
      "description": "",
      "description_tooltip": null,
      "layout": "IPY_MODEL_d5e2b4c5d72c491aa7a5528a94608eb9",
      "placeholder": "​",
      "style": "IPY_MODEL_75045fcf8b394158a92a8d3c3b0d9acf",
      "value": "Generating train split: "
     }
    },
    "8a85d916ba4c458f8a33ace47692570e": {
     "model_module": "@jupyter-widgets/controls",
     "model_module_version": "1.5.0",
     "model_name": "ProgressStyleModel",
     "state": {
      "_model_module": "@jupyter-widgets/controls",
      "_model_module_version": "1.5.0",
      "_model_name": "ProgressStyleModel",
      "_view_count": null,
      "_view_module": "@jupyter-widgets/base",
      "_view_module_version": "1.2.0",
      "_view_name": "StyleView",
      "bar_color": null,
      "description_width": ""
     }
    },
    "998baeb902044740baa8c970bf048f69": {
     "model_module": "@jupyter-widgets/controls",
     "model_module_version": "1.5.0",
     "model_name": "HBoxModel",
     "state": {
      "_dom_classes": [],
      "_model_module": "@jupyter-widgets/controls",
      "_model_module_version": "1.5.0",
      "_model_name": "HBoxModel",
      "_view_count": null,
      "_view_module": "@jupyter-widgets/controls",
      "_view_module_version": "1.5.0",
      "_view_name": "HBoxView",
      "box_style": "",
      "children": [
       "IPY_MODEL_6eec16c669d74b23b768dce5c04dcd0e",
       "IPY_MODEL_58d6895caea14747998fc57384a229cc",
       "IPY_MODEL_344f691d442c4f138482c5cdd10ed377"
      ],
      "layout": "IPY_MODEL_9bc9b6deaa3748e597abf4515ddbecbe"
     }
    },
    "9bc9b6deaa3748e597abf4515ddbecbe": {
     "model_module": "@jupyter-widgets/base",
     "model_module_version": "1.2.0",
     "model_name": "LayoutModel",
     "state": {
      "_model_module": "@jupyter-widgets/base",
      "_model_module_version": "1.2.0",
      "_model_name": "LayoutModel",
      "_view_count": null,
      "_view_module": "@jupyter-widgets/base",
      "_view_module_version": "1.2.0",
      "_view_name": "LayoutView",
      "align_content": null,
      "align_items": null,
      "align_self": null,
      "border": null,
      "bottom": null,
      "display": null,
      "flex": null,
      "flex_flow": null,
      "grid_area": null,
      "grid_auto_columns": null,
      "grid_auto_flow": null,
      "grid_auto_rows": null,
      "grid_column": null,
      "grid_gap": null,
      "grid_row": null,
      "grid_template_areas": null,
      "grid_template_columns": null,
      "grid_template_rows": null,
      "height": null,
      "justify_content": null,
      "justify_items": null,
      "left": null,
      "margin": null,
      "max_height": null,
      "max_width": null,
      "min_height": null,
      "min_width": null,
      "object_fit": null,
      "object_position": null,
      "order": null,
      "overflow": null,
      "overflow_x": null,
      "overflow_y": null,
      "padding": null,
      "right": null,
      "top": null,
      "visibility": null,
      "width": null
     }
    },
    "9c93af8b2a8240b299fa037af5fd4b9e": {
     "model_module": "@jupyter-widgets/base",
     "model_module_version": "1.2.0",
     "model_name": "LayoutModel",
     "state": {
      "_model_module": "@jupyter-widgets/base",
      "_model_module_version": "1.2.0",
      "_model_name": "LayoutModel",
      "_view_count": null,
      "_view_module": "@jupyter-widgets/base",
      "_view_module_version": "1.2.0",
      "_view_name": "LayoutView",
      "align_content": null,
      "align_items": null,
      "align_self": null,
      "border": null,
      "bottom": null,
      "display": null,
      "flex": null,
      "flex_flow": null,
      "grid_area": null,
      "grid_auto_columns": null,
      "grid_auto_flow": null,
      "grid_auto_rows": null,
      "grid_column": null,
      "grid_gap": null,
      "grid_row": null,
      "grid_template_areas": null,
      "grid_template_columns": null,
      "grid_template_rows": null,
      "height": null,
      "justify_content": null,
      "justify_items": null,
      "left": null,
      "margin": null,
      "max_height": null,
      "max_width": null,
      "min_height": null,
      "min_width": null,
      "object_fit": null,
      "object_position": null,
      "order": null,
      "overflow": null,
      "overflow_x": null,
      "overflow_y": null,
      "padding": null,
      "right": null,
      "top": null,
      "visibility": null,
      "width": null
     }
    },
    "a06d1306c5e54ed2ba7a5a024814396a": {
     "model_module": "@jupyter-widgets/controls",
     "model_module_version": "1.5.0",
     "model_name": "DescriptionStyleModel",
     "state": {
      "_model_module": "@jupyter-widgets/controls",
      "_model_module_version": "1.5.0",
      "_model_name": "DescriptionStyleModel",
      "_view_count": null,
      "_view_module": "@jupyter-widgets/base",
      "_view_module_version": "1.2.0",
      "_view_name": "StyleView",
      "description_width": ""
     }
    },
    "a20621e621d4485f845bb304177f765d": {
     "model_module": "@jupyter-widgets/controls",
     "model_module_version": "1.5.0",
     "model_name": "HBoxModel",
     "state": {
      "_dom_classes": [],
      "_model_module": "@jupyter-widgets/controls",
      "_model_module_version": "1.5.0",
      "_model_name": "HBoxModel",
      "_view_count": null,
      "_view_module": "@jupyter-widgets/controls",
      "_view_module_version": "1.5.0",
      "_view_name": "HBoxView",
      "box_style": "",
      "children": [
       "IPY_MODEL_bf396c9621db400e844ef87ecf7c7506",
       "IPY_MODEL_dc3c3596e2a84402a8f26dbb13da38b2",
       "IPY_MODEL_3fb775fc90a5480eba2501bba2a10ff4"
      ],
      "layout": "IPY_MODEL_25ffd34b6cf14cce85d32c86dd90fb07"
     }
    },
    "ae4d07e1ccd44415a0b435ee84526222": {
     "model_module": "@jupyter-widgets/base",
     "model_module_version": "1.2.0",
     "model_name": "LayoutModel",
     "state": {
      "_model_module": "@jupyter-widgets/base",
      "_model_module_version": "1.2.0",
      "_model_name": "LayoutModel",
      "_view_count": null,
      "_view_module": "@jupyter-widgets/base",
      "_view_module_version": "1.2.0",
      "_view_name": "LayoutView",
      "align_content": null,
      "align_items": null,
      "align_self": null,
      "border": null,
      "bottom": null,
      "display": null,
      "flex": null,
      "flex_flow": null,
      "grid_area": null,
      "grid_auto_columns": null,
      "grid_auto_flow": null,
      "grid_auto_rows": null,
      "grid_column": null,
      "grid_gap": null,
      "grid_row": null,
      "grid_template_areas": null,
      "grid_template_columns": null,
      "grid_template_rows": null,
      "height": null,
      "justify_content": null,
      "justify_items": null,
      "left": null,
      "margin": null,
      "max_height": null,
      "max_width": null,
      "min_height": null,
      "min_width": null,
      "object_fit": null,
      "object_position": null,
      "order": null,
      "overflow": null,
      "overflow_x": null,
      "overflow_y": null,
      "padding": null,
      "right": null,
      "top": null,
      "visibility": null,
      "width": null
     }
    },
    "be062c5b03804239a2d760d8bec91f2b": {
     "model_module": "@jupyter-widgets/base",
     "model_module_version": "1.2.0",
     "model_name": "LayoutModel",
     "state": {
      "_model_module": "@jupyter-widgets/base",
      "_model_module_version": "1.2.0",
      "_model_name": "LayoutModel",
      "_view_count": null,
      "_view_module": "@jupyter-widgets/base",
      "_view_module_version": "1.2.0",
      "_view_name": "LayoutView",
      "align_content": null,
      "align_items": null,
      "align_self": null,
      "border": null,
      "bottom": null,
      "display": null,
      "flex": null,
      "flex_flow": null,
      "grid_area": null,
      "grid_auto_columns": null,
      "grid_auto_flow": null,
      "grid_auto_rows": null,
      "grid_column": null,
      "grid_gap": null,
      "grid_row": null,
      "grid_template_areas": null,
      "grid_template_columns": null,
      "grid_template_rows": null,
      "height": null,
      "justify_content": null,
      "justify_items": null,
      "left": null,
      "margin": null,
      "max_height": null,
      "max_width": null,
      "min_height": null,
      "min_width": null,
      "object_fit": null,
      "object_position": null,
      "order": null,
      "overflow": null,
      "overflow_x": null,
      "overflow_y": null,
      "padding": null,
      "right": null,
      "top": null,
      "visibility": null,
      "width": null
     }
    },
    "bf396c9621db400e844ef87ecf7c7506": {
     "model_module": "@jupyter-widgets/controls",
     "model_module_version": "1.5.0",
     "model_name": "HTMLModel",
     "state": {
      "_dom_classes": [],
      "_model_module": "@jupyter-widgets/controls",
      "_model_module_version": "1.5.0",
      "_model_name": "HTMLModel",
      "_view_count": null,
      "_view_module": "@jupyter-widgets/controls",
      "_view_module_version": "1.5.0",
      "_view_name": "HTMLView",
      "description": "",
      "description_tooltip": null,
      "layout": "IPY_MODEL_ae4d07e1ccd44415a0b435ee84526222",
      "placeholder": "​",
      "style": "IPY_MODEL_ce2d0b5096044d3887e30b56df30dbf3",
      "value": "eye_movements.csv: "
     }
    },
    "cd43f3c3a95f4011a5a3a6252379a66d": {
     "model_module": "@jupyter-widgets/base",
     "model_module_version": "1.2.0",
     "model_name": "LayoutModel",
     "state": {
      "_model_module": "@jupyter-widgets/base",
      "_model_module_version": "1.2.0",
      "_model_name": "LayoutModel",
      "_view_count": null,
      "_view_module": "@jupyter-widgets/base",
      "_view_module_version": "1.2.0",
      "_view_name": "LayoutView",
      "align_content": null,
      "align_items": null,
      "align_self": null,
      "border": null,
      "bottom": null,
      "display": null,
      "flex": null,
      "flex_flow": null,
      "grid_area": null,
      "grid_auto_columns": null,
      "grid_auto_flow": null,
      "grid_auto_rows": null,
      "grid_column": null,
      "grid_gap": null,
      "grid_row": null,
      "grid_template_areas": null,
      "grid_template_columns": null,
      "grid_template_rows": null,
      "height": null,
      "justify_content": null,
      "justify_items": null,
      "left": null,
      "margin": null,
      "max_height": null,
      "max_width": null,
      "min_height": null,
      "min_width": null,
      "object_fit": null,
      "object_position": null,
      "order": null,
      "overflow": null,
      "overflow_x": null,
      "overflow_y": null,
      "padding": null,
      "right": null,
      "top": null,
      "visibility": null,
      "width": null
     }
    },
    "ce2d0b5096044d3887e30b56df30dbf3": {
     "model_module": "@jupyter-widgets/controls",
     "model_module_version": "1.5.0",
     "model_name": "DescriptionStyleModel",
     "state": {
      "_model_module": "@jupyter-widgets/controls",
      "_model_module_version": "1.5.0",
      "_model_name": "DescriptionStyleModel",
      "_view_count": null,
      "_view_module": "@jupyter-widgets/base",
      "_view_module_version": "1.2.0",
      "_view_name": "StyleView",
      "description_width": ""
     }
    },
    "cf56a26e219e45ba8e100e170cb72310": {
     "model_module": "@jupyter-widgets/base",
     "model_module_version": "1.2.0",
     "model_name": "LayoutModel",
     "state": {
      "_model_module": "@jupyter-widgets/base",
      "_model_module_version": "1.2.0",
      "_model_name": "LayoutModel",
      "_view_count": null,
      "_view_module": "@jupyter-widgets/base",
      "_view_module_version": "1.2.0",
      "_view_name": "LayoutView",
      "align_content": null,
      "align_items": null,
      "align_self": null,
      "border": null,
      "bottom": null,
      "display": null,
      "flex": null,
      "flex_flow": null,
      "grid_area": null,
      "grid_auto_columns": null,
      "grid_auto_flow": null,
      "grid_auto_rows": null,
      "grid_column": null,
      "grid_gap": null,
      "grid_row": null,
      "grid_template_areas": null,
      "grid_template_columns": null,
      "grid_template_rows": null,
      "height": null,
      "justify_content": null,
      "justify_items": null,
      "left": null,
      "margin": null,
      "max_height": null,
      "max_width": null,
      "min_height": null,
      "min_width": null,
      "object_fit": null,
      "object_position": null,
      "order": null,
      "overflow": null,
      "overflow_x": null,
      "overflow_y": null,
      "padding": null,
      "right": null,
      "top": null,
      "visibility": null,
      "width": "20px"
     }
    },
    "cfbf0f50dace436f8bf938f42ca2e6a6": {
     "model_module": "@jupyter-widgets/controls",
     "model_module_version": "1.5.0",
     "model_name": "DescriptionStyleModel",
     "state": {
      "_model_module": "@jupyter-widgets/controls",
      "_model_module_version": "1.5.0",
      "_model_name": "DescriptionStyleModel",
      "_view_count": null,
      "_view_module": "@jupyter-widgets/base",
      "_view_module_version": "1.2.0",
      "_view_name": "StyleView",
      "description_width": ""
     }
    },
    "d5e2b4c5d72c491aa7a5528a94608eb9": {
     "model_module": "@jupyter-widgets/base",
     "model_module_version": "1.2.0",
     "model_name": "LayoutModel",
     "state": {
      "_model_module": "@jupyter-widgets/base",
      "_model_module_version": "1.2.0",
      "_model_name": "LayoutModel",
      "_view_count": null,
      "_view_module": "@jupyter-widgets/base",
      "_view_module_version": "1.2.0",
      "_view_name": "LayoutView",
      "align_content": null,
      "align_items": null,
      "align_self": null,
      "border": null,
      "bottom": null,
      "display": null,
      "flex": null,
      "flex_flow": null,
      "grid_area": null,
      "grid_auto_columns": null,
      "grid_auto_flow": null,
      "grid_auto_rows": null,
      "grid_column": null,
      "grid_gap": null,
      "grid_row": null,
      "grid_template_areas": null,
      "grid_template_columns": null,
      "grid_template_rows": null,
      "height": null,
      "justify_content": null,
      "justify_items": null,
      "left": null,
      "margin": null,
      "max_height": null,
      "max_width": null,
      "min_height": null,
      "min_width": null,
      "object_fit": null,
      "object_position": null,
      "order": null,
      "overflow": null,
      "overflow_x": null,
      "overflow_y": null,
      "padding": null,
      "right": null,
      "top": null,
      "visibility": null,
      "width": null
     }
    },
    "d74dfc4382a84d5393993cce51b8aade": {
     "model_module": "@jupyter-widgets/base",
     "model_module_version": "1.2.0",
     "model_name": "LayoutModel",
     "state": {
      "_model_module": "@jupyter-widgets/base",
      "_model_module_version": "1.2.0",
      "_model_name": "LayoutModel",
      "_view_count": null,
      "_view_module": "@jupyter-widgets/base",
      "_view_module_version": "1.2.0",
      "_view_name": "LayoutView",
      "align_content": null,
      "align_items": null,
      "align_self": null,
      "border": null,
      "bottom": null,
      "display": null,
      "flex": null,
      "flex_flow": null,
      "grid_area": null,
      "grid_auto_columns": null,
      "grid_auto_flow": null,
      "grid_auto_rows": null,
      "grid_column": null,
      "grid_gap": null,
      "grid_row": null,
      "grid_template_areas": null,
      "grid_template_columns": null,
      "grid_template_rows": null,
      "height": null,
      "justify_content": null,
      "justify_items": null,
      "left": null,
      "margin": null,
      "max_height": null,
      "max_width": null,
      "min_height": null,
      "min_width": null,
      "object_fit": null,
      "object_position": null,
      "order": null,
      "overflow": null,
      "overflow_x": null,
      "overflow_y": null,
      "padding": null,
      "right": null,
      "top": null,
      "visibility": null,
      "width": null
     }
    },
    "dc3c3596e2a84402a8f26dbb13da38b2": {
     "model_module": "@jupyter-widgets/controls",
     "model_module_version": "1.5.0",
     "model_name": "FloatProgressModel",
     "state": {
      "_dom_classes": [],
      "_model_module": "@jupyter-widgets/controls",
      "_model_module_version": "1.5.0",
      "_model_name": "FloatProgressModel",
      "_view_count": null,
      "_view_module": "@jupyter-widgets/controls",
      "_view_module_version": "1.5.0",
      "_view_name": "ProgressView",
      "bar_style": "success",
      "description": "",
      "description_tooltip": null,
      "layout": "IPY_MODEL_548fe2ce4a7b435b98dea2b7d66836c2",
      "max": 1,
      "min": 0,
      "orientation": "horizontal",
      "style": "IPY_MODEL_01f66997ab4946d696de9cecf965fa25",
      "value": 1
     }
    },
    "ebf950befe674ba884c42ad3e14133ff": {
     "model_module": "@jupyter-widgets/controls",
     "model_module_version": "1.5.0",
     "model_name": "HBoxModel",
     "state": {
      "_dom_classes": [],
      "_model_module": "@jupyter-widgets/controls",
      "_model_module_version": "1.5.0",
      "_model_name": "HBoxModel",
      "_view_count": null,
      "_view_module": "@jupyter-widgets/controls",
      "_view_module_version": "1.5.0",
      "_view_name": "HBoxView",
      "box_style": "",
      "children": [
       "IPY_MODEL_8a058e47d5e0439c87455aac3ac88065",
       "IPY_MODEL_55f2b956172b440981b88e1db36f1457",
       "IPY_MODEL_1ffe31f3503c4daa97cd4b6bc30f00ab"
      ],
      "layout": "IPY_MODEL_3f356cb3323b490085f2488157a36cfb"
     }
    }
   }
  }
 },
 "nbformat": 4,
 "nbformat_minor": 4
}
